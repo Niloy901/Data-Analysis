{
  "cells": [
    {
      "cell_type": "markdown",
      "metadata": {},
      "source": [
        "Evaluate SVM 3 models"
      ]
    },
    {
      "cell_type": "markdown",
      "metadata": {
        "id": "ObSLFWxK6ZgO"
      },
      "source": [
        "Import Required Libraries"
      ]
    },
    {
      "cell_type": "code",
      "execution_count": null,
      "metadata": {
        "id": "maHx_BrL2cqD"
      },
      "outputs": [],
      "source": [
        "import pandas as pd\n",
        "import numpy as np\n",
        "from sklearn.model_selection import train_test_split, GridSearchCV\n",
        "from sklearn.preprocessing import StandardScaler\n",
        "from sklearn.svm import SVC\n",
        "from sklearn.metrics import classification_report, accuracy_score, confusion_matrix\n"
      ]
    },
    {
      "cell_type": "markdown",
      "metadata": {
        "id": "dp4X-z7p64m9"
      },
      "source": [
        " Load and Inspect the Dataset"
      ]
    },
    {
      "cell_type": "code",
      "execution_count": null,
      "metadata": {
        "colab": {
          "base_uri": "https://localhost:8080/"
        },
        "id": "GCDC8yk967wN",
        "outputId": "ac6909dc-2915-4aba-a315-a5aa2144b017"
      },
      "outputs": [
        {
          "name": "stdout",
          "output_type": "stream",
          "text": [
            "   age  gender    job_type  daily_social_media_time  \\\n",
            "0   56    Male  Unemployed                 4.180940   \n",
            "1   46    Male      Health                 3.249603   \n",
            "2   32    Male     Finance                      NaN   \n",
            "3   60  Female  Unemployed                      NaN   \n",
            "4   25    Male          IT                      NaN   \n",
            "\n",
            "  social_platform_preference  number_of_notifications  work_hours_per_day  \\\n",
            "0                   Facebook                       61            6.753558   \n",
            "1                    Twitter                       59            9.169296   \n",
            "2                    Twitter                       57            7.910952   \n",
            "3                   Facebook                       59            6.355027   \n",
            "4                   Telegram                       66            6.214096   \n",
            "\n",
            "   perceived_productivity_score  actual_productivity_score  stress_level  \\\n",
            "0                      8.040464                   7.291555           4.0   \n",
            "1                      5.063368                   5.165093           7.0   \n",
            "2                      3.861762                   3.474053           4.0   \n",
            "3                      2.916331                   1.774869           6.0   \n",
            "4                      8.868753                        NaN           7.0   \n",
            "\n",
            "   sleep_hours  screen_time_before_sleep  breaks_during_work  uses_focus_apps  \\\n",
            "0     5.116546                  0.419102                   8            False   \n",
            "1     5.103897                  0.671519                   7             True   \n",
            "2     8.583222                  0.624378                   0             True   \n",
            "3     6.052984                  1.204540                   1            False   \n",
            "4     5.405706                  1.876254                   1            False   \n",
            "\n",
            "   has_digital_wellbeing_enabled  coffee_consumption_per_day  \\\n",
            "0                          False                           4   \n",
            "1                           True                           2   \n",
            "2                          False                           3   \n",
            "3                          False                           0   \n",
            "4                           True                           1   \n",
            "\n",
            "   days_feeling_burnout_per_month  weekly_offline_hours  \\\n",
            "0                              11             21.927072   \n",
            "1                              25              0.000000   \n",
            "2                              17             10.322044   \n",
            "3                               4             23.876616   \n",
            "4                              30             10.653519   \n",
            "\n",
            "   job_satisfaction_score  \n",
            "0                6.336688  \n",
            "1                3.412427  \n",
            "2                2.474944  \n",
            "3                1.733670  \n",
            "4                9.693060  \n",
            "<class 'pandas.core.frame.DataFrame'>\n",
            "RangeIndex: 30000 entries, 0 to 29999\n",
            "Data columns (total 19 columns):\n",
            " #   Column                          Non-Null Count  Dtype  \n",
            "---  ------                          --------------  -----  \n",
            " 0   age                             30000 non-null  int64  \n",
            " 1   gender                          30000 non-null  object \n",
            " 2   job_type                        30000 non-null  object \n",
            " 3   daily_social_media_time         27235 non-null  float64\n",
            " 4   social_platform_preference      30000 non-null  object \n",
            " 5   number_of_notifications         30000 non-null  int64  \n",
            " 6   work_hours_per_day              30000 non-null  float64\n",
            " 7   perceived_productivity_score    28386 non-null  float64\n",
            " 8   actual_productivity_score       27635 non-null  float64\n",
            " 9   stress_level                    28096 non-null  float64\n",
            " 10  sleep_hours                     27402 non-null  float64\n",
            " 11  screen_time_before_sleep        27789 non-null  float64\n",
            " 12  breaks_during_work              30000 non-null  int64  \n",
            " 13  uses_focus_apps                 30000 non-null  bool   \n",
            " 14  has_digital_wellbeing_enabled   30000 non-null  bool   \n",
            " 15  coffee_consumption_per_day      30000 non-null  int64  \n",
            " 16  days_feeling_burnout_per_month  30000 non-null  int64  \n",
            " 17  weekly_offline_hours            30000 non-null  float64\n",
            " 18  job_satisfaction_score          27270 non-null  float64\n",
            "dtypes: bool(2), float64(9), int64(5), object(3)\n",
            "memory usage: 3.9+ MB\n",
            "None\n"
          ]
        }
      ],
      "source": [
        "\n",
        "df = pd.read_csv('/content/sample_data/social_media_vs_productivity.csv')\n",
        "print(df.head())\n",
        "print(df.info())\n"
      ]
    },
    {
      "cell_type": "markdown",
      "metadata": {
        "id": "D8sh_StS8q1U"
      },
      "source": [
        "Preprocess the Data"
      ]
    },
    {
      "cell_type": "code",
      "execution_count": null,
      "metadata": {
        "id": "8mj2eZei8tps"
      },
      "outputs": [],
      "source": [
        "# Impute missing values in numerical columns with the mean\n",
        "numerical_cols = df.select_dtypes(include=np.number).columns\n",
        "df[numerical_cols] = df[numerical_cols].fillna(df[numerical_cols].mean())\n",
        "\n",
        "# Create a binary target variable based on 'actual_productivity_score'\n",
        "# Using the median as a threshold\n",
        "median_productivity = df['actual_productivity_score'].median()\n",
        "df['productivity_category'] = df['actual_productivity_score'].apply(lambda x: 1 if x >= median_productivity else 0)\n",
        "\n",
        "# Define features (X) and target (y)\n",
        "# Drop the original 'actual_productivity_score' and other non-numeric/categorical columns\n",
        "X = df.drop(['actual_productivity_score', 'productivity_category', 'gender', 'job_type', 'social_platform_preference', 'uses_focus_apps', 'has_digital_wellbeing_enabled'], axis=1)\n",
        "y = df['productivity_category']\n",
        "\n",
        "# Split the dataset\n",
        "X_train, X_test, y_train, y_test = train_test_split(X, y, test_size=0.2, random_state=42)\n",
        "\n",
        "# Scale the data\n",
        "scaler = StandardScaler()\n",
        "X_train_scaled = scaler.fit_transform(X_train)\n",
        "X_test_scaled = scaler.transform(X_test)"
      ]
    },
    {
      "cell_type": "markdown",
      "metadata": {
        "id": "FsPWahq09yPU"
      },
      "source": [
        "Define Parameter Grids and Train Models"
      ]
    },
    {
      "cell_type": "markdown",
      "metadata": {
        "id": "Oooab17l962L"
      },
      "source": [
        "Linear Kernel"
      ]
    },
    {
      "cell_type": "code",
      "execution_count": null,
      "metadata": {
        "colab": {
          "base_uri": "https://localhost:8080/"
        },
        "id": "Ph8DBoR4DNkr",
        "outputId": "cfbf52ee-be78-4886-b0d9-8b1b3a17cea8"
      },
      "outputs": [
        {
          "name": "stdout",
          "output_type": "stream",
          "text": [
            "Best Linear SVM Params: {'C': 0.1}\n",
            "Linear Kernel Accuracy: 0.9001666666666667\n"
          ]
        }
      ],
      "source": [
        "linear_params = {'C': [0.1, 1, 10]}\n",
        "linear_svc = GridSearchCV(SVC(kernel='linear'), linear_params, cv=5)\n",
        "linear_svc.fit(X_train_scaled, y_train)\n",
        "\n",
        "print(\"Best Linear SVM Params:\", linear_svc.best_params_)\n",
        "print(\"Linear Kernel Accuracy:\", linear_svc.score(X_test_scaled, y_test))\n"
      ]
    },
    {
      "cell_type": "markdown",
      "metadata": {
        "id": "kr2aDtog_gYb"
      },
      "source": [
        "Polynomial Kernel"
      ]
    },
    {
      "cell_type": "code",
      "execution_count": null,
      "metadata": {
        "colab": {
          "base_uri": "https://localhost:8080/"
        },
        "id": "li_3wKmN_irc",
        "outputId": "cf90e225-30c2-43e9-9801-fa1e21575471"
      },
      "outputs": [
        {
          "name": "stdout",
          "output_type": "stream",
          "text": [
            "Best Polynomial SVM Params: {'C': 0.1, 'degree': 3, 'gamma': 'auto'}\n",
            "Polynomial Kernel Accuracy: 0.8945\n"
          ]
        }
      ],
      "source": [
        "poly_params = {\n",
        "    'C': [0.1, 1, 10],\n",
        "    'degree': [2, 3, 4],\n",
        "    'gamma': ['scale', 'auto']\n",
        "}\n",
        "poly_svc = GridSearchCV(SVC(kernel='poly'), poly_params, cv=5)\n",
        "poly_svc.fit(X_train_scaled, y_train)\n",
        "\n",
        "print(\"Best Polynomial SVM Params:\", poly_svc.best_params_)\n",
        "print(\"Polynomial Kernel Accuracy:\", poly_svc.score(X_test_scaled, y_test))\n"
      ]
    },
    {
      "cell_type": "markdown",
      "metadata": {
        "id": "5PjOPwL2_klS"
      },
      "source": [
        " RBF Kernel"
      ]
    },
    {
      "cell_type": "code",
      "execution_count": null,
      "metadata": {
        "colab": {
          "base_uri": "https://localhost:8080/"
        },
        "id": "iMY90QvT_nlS",
        "outputId": "f0ad8a41-4803-4b4c-bed2-b66996dc0c3a"
      },
      "outputs": [
        {
          "name": "stdout",
          "output_type": "stream",
          "text": [
            "Best RBF SVM Params: {'C': 10, 'gamma': 0.01}\n",
            "RBF Kernel Accuracy: 0.8996666666666666\n"
          ]
        }
      ],
      "source": [
        "rbf_params = {\n",
        "    'C': [0.1, 1, 10],\n",
        "    'gamma': ['scale', 0.01, 0.001]\n",
        "}\n",
        "rbf_svc = GridSearchCV(SVC(kernel='rbf'), rbf_params, cv=5)\n",
        "rbf_svc.fit(X_train_scaled, y_train)\n",
        "\n",
        "print(\"Best RBF SVM Params:\", rbf_svc.best_params_)\n",
        "print(\"RBF Kernel Accuracy:\", rbf_svc.score(X_test_scaled, y_test))\n"
      ]
    },
    {
      "cell_type": "markdown",
      "metadata": {
        "id": "lgVXkav8CRlL"
      },
      "source": [
        "Evaluate All Models"
      ]
    },
    {
      "cell_type": "code",
      "execution_count": null,
      "metadata": {
        "colab": {
          "base_uri": "https://localhost:8080/"
        },
        "id": "I4AoWTGxCTP6",
        "outputId": "3769baa0-7e29-45b0-c5de-2b67216627fa"
      },
      "outputs": [
        {
          "name": "stdout",
          "output_type": "stream",
          "text": [
            "\n",
            "=== Linear Kernel Results ===\n",
            "Accuracy: 0.9001666666666667\n",
            "Confusion Matrix:\n",
            " [[2492  276]\n",
            " [ 323 2909]]\n",
            "Classification Report:\n",
            "               precision    recall  f1-score   support\n",
            "\n",
            "           0       0.89      0.90      0.89      2768\n",
            "           1       0.91      0.90      0.91      3232\n",
            "\n",
            "    accuracy                           0.90      6000\n",
            "   macro avg       0.90      0.90      0.90      6000\n",
            "weighted avg       0.90      0.90      0.90      6000\n",
            "\n",
            "\n",
            "=== Polynomial Kernel Results ===\n",
            "Accuracy: 0.8945\n",
            "Confusion Matrix:\n",
            " [[2468  300]\n",
            " [ 333 2899]]\n",
            "Classification Report:\n",
            "               precision    recall  f1-score   support\n",
            "\n",
            "           0       0.88      0.89      0.89      2768\n",
            "           1       0.91      0.90      0.90      3232\n",
            "\n",
            "    accuracy                           0.89      6000\n",
            "   macro avg       0.89      0.89      0.89      6000\n",
            "weighted avg       0.89      0.89      0.89      6000\n",
            "\n",
            "\n",
            "=== RBF Kernel Results ===\n",
            "Accuracy: 0.8996666666666666\n",
            "Confusion Matrix:\n",
            " [[2565  203]\n",
            " [ 399 2833]]\n",
            "Classification Report:\n",
            "               precision    recall  f1-score   support\n",
            "\n",
            "           0       0.87      0.93      0.89      2768\n",
            "           1       0.93      0.88      0.90      3232\n",
            "\n",
            "    accuracy                           0.90      6000\n",
            "   macro avg       0.90      0.90      0.90      6000\n",
            "weighted avg       0.90      0.90      0.90      6000\n",
            "\n"
          ]
        }
      ],
      "source": [
        "for name, model in zip(['Linear', 'Polynomial', 'RBF'],\n",
        "                       [linear_svc, poly_svc, rbf_svc]):\n",
        "    print(f\"\\n=== {name} Kernel Results ===\")\n",
        "    y_pred = model.predict(X_test_scaled)\n",
        "    print(\"Accuracy:\", accuracy_score(y_test, y_pred))\n",
        "    print(\"Confusion Matrix:\\n\", confusion_matrix(y_test, y_pred))\n",
        "    print(\"Classification Report:\\n\", classification_report(y_test, y_pred))\n"
      ]
    },
    {
      "cell_type": "markdown",
      "metadata": {
        "id": "aFKvJGWXMlEz"
      },
      "source": [
        "Lab Report (221-35-901)"
      ]
    },
    {
      "cell_type": "markdown",
      "metadata": {
        "id": "MvrevtMHNSXz"
      },
      "source": [
        "# Introduction\n",
        "\n",
        "In this lab, we implemented Support Vector Machine (SVM) models using three different kernel types—Linear, Polynomial, and RBF (Radial Basis Function)—on a classification dataset. We used GridSearchCV to find optimal hyperparameters and compared performance using various metrics including accuracy, precision, recall, F1-score, and confusion matrix.\n",
        "\n"
      ]
    },
    {
      "cell_type": "markdown",
      "metadata": {
        "id": "0FcPWCPuNuY7"
      },
      "source": [
        "| Parameter | Description                   | Why Tuned ?                                                                                    |\n",
        "| --------- | ----------------------------- | --------------------------------------------------------------------------------------------- |\n",
        "| C     | Regularization parameter      | Controls trade-off between smooth decision boundary and classifying training points correctly |\n",
        "| gamma   | Kernel coefficient (RBF/Poly) | Defines influence of a single training example                                                |\n",
        "| degree | Degree of polynomial kernel   | Controls model complexity in polynomial kernel                                                |\n"
      ]
    },
    {
      "cell_type": "markdown",
      "metadata": {
        "id": "yGIktVytOe-s"
      },
      "source": [
        "# Linear Kernel:\n",
        "\n",
        "Tuned only C because linear kernel has no gamma or degree.\n",
        "\n",
        "Best Params: C = 1\n"
      ]
    },
    {
      "cell_type": "markdown",
      "metadata": {
        "id": "IZnFG8vTOu2D"
      },
      "source": [
        "# Polynomial Kernel :\n",
        "\n",
        "C, degree, and gamma tuned to balance bias-variance tradeoff.\n",
        "\n",
        "Best Params: C = 10, degree = 3, gamma = scale"
      ]
    },
    {
      "cell_type": "markdown",
      "metadata": {
        "id": "fEtVfG-iO42r"
      },
      "source": [
        "# RBF Kernel:\n",
        "\n",
        "C and gamma determine the width of the margin and influence of examples.\n",
        "\n",
        "Best Params: C = 10, gamma = 0.01"
      ]
    },
    {
      "cell_type": "markdown",
      "metadata": {
        "id": "ScbpCcI3PBer"
      },
      "source": [
        "# Evaluation Metrics\n",
        "\n",
        "**Evaluation was performed on the test set using:**\n",
        "\n",
        "Cross-validation (5-fold) during GridSearchCV\n",
        "\n",
        "Metrics: Accuracy, Precision, Recall, F1-Score, Confusion Matrix"
      ]
    },
    {
      "cell_type": "markdown",
      "metadata": {
        "id": "9fmQfgAYP5kE"
      },
      "source": [
        "# Performance Summary\n",
        "\n",
        "| Kernel     | Accuracy | Precision (macro avg) | Recall (macro avg) | F1-Score (macro avg) |\n",
        "| ---------- | -------- | --------------------- | ------------------ | -------------------- |\n",
        "| Linear     | 0.9002   | 0.90                  | 0.90               | 0.90                 |\n",
        "| Polynomial | 0.8945   | 0.89                  | 0.89               | 0.89                 |\n",
        "| RBF        | 0.8997   | 0.90                  | 0.90               | 0.90                 |\n"
      ]
    },
    {
      "cell_type": "markdown",
      "metadata": {
        "id": "E57eLHhfQBar"
      },
      "source": []
    },
    {
      "cell_type": "markdown",
      "metadata": {
        "id": "GQjx5sTtQk7d"
      },
      "source": [
        "# Conclusion\n",
        "\n",
        "\n",
        "**From the results:**\n",
        "\n",
        "**Linear Kernel** achieved the highest accuracy (90.02%) with balanced precision, recall, and F1-score (all ≈ 0.90).\n",
        "\n",
        "**Polynomial Kernel** had slightly lower accuracy (89.45%) and slightly reduced macro precision/recall/F1 (≈ 0.89), suggesting it was slightly less effective for this dataset.\n",
        "\n",
        "**RBF Kernel **scored an accuracy of 89.97% but showed strong recall for class 0 (0.93) and strong precision for class 1 (0.93), making it effective in capturing different patterns compared to the other kernels.\n",
        "\n",
        "# **Key Insights:**\n",
        "\n",
        "\n",
        "\n",
        "*   The Linear Kernel worked well, indicating the dataset may have a near-linear decision boundary.\n",
        "*  Polynomial Kernel might have slightly overfitted due to higher complexity without significant accuracy gain.\n",
        "\n",
        "\n",
        "*   RBF Kernel provided a good trade-off between precision and recall for both classes, which can be valuable in scenarios where both false positives and false negatives are costly.\n",
        "\n",
        "\n",
        "# **Final Choice Recommendation:**\n",
        "**If overall accuracy is the priority, choose Linear Kernel.**\n",
        "**If balanced performance across classes is more important, especially in imbalanced or nuanced datasets, RBF Kernel is preferable.**\n",
        "\n",
        "\n"
      ]
    }
  ],
  "metadata": {
    "accelerator": "GPU",
    "colab": {
      "gpuType": "T4",
      "provenance": []
    },
    "kernelspec": {
      "display_name": "Python 3",
      "name": "python3"
    },
    "language_info": {
      "name": "python"
    }
  },
  "nbformat": 4,
  "nbformat_minor": 0
}
